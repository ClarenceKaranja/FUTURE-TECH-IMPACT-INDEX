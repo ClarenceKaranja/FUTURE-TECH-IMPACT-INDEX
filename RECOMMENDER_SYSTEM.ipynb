{
  "nbformat": 4,
  "nbformat_minor": 0,
  "metadata": {
    "colab": {
      "provenance": [],
      "mount_file_id": "1sz87uYr1znV60EBXODYY9x9xpFeFYT0u",
      "authorship_tag": "ABX9TyNMTDRJIb0O4mlEhoikgmuW",
      "include_colab_link": true
    },
    "kernelspec": {
      "name": "python3",
      "display_name": "Python 3"
    },
    "language_info": {
      "name": "python"
    },
    "accelerator": "TPU"
  },
  "cells": [
    {
      "cell_type": "markdown",
      "metadata": {
        "id": "view-in-github",
        "colab_type": "text"
      },
      "source": [
        "<a href=\"https://colab.research.google.com/github/ClarenceKaranja/FUTURE-TECH-IMPACT-INDEX/blob/main/RECOMMENDER_SYSTEM.ipynb\" target=\"_parent\"><img src=\"https://colab.research.google.com/assets/colab-badge.svg\" alt=\"Open In Colab\"/></a>"
      ]
    },
    {
      "cell_type": "code",
      "source": [
        "import nltk\n",
        "\n",
        "try:\n",
        "    nltk.data.find('tokenizers/punkt')\n",
        "except LookupError:\n",
        "    print('Downloading punkt...')\n",
        "    nltk.download('punkt')\n",
        "\n",
        "try:\n",
        "    import numpy\n",
        "    import pandas as pd\n",
        "    from sklearn.feature_extraction.text import TfidfVectorizer\n",
        "    from sklearn.metrics.pairwise import cosine_similarity\n",
        "    import re\n",
        "    from nltk.stem.snowball import SnowballStemmer\n",
        "except ImportError:\n",
        "    print('You are missing some packages! ' \\\n",
        "          'We will try installing them before continuing!')\n",
        "    !pip install \"numpy\" \"pandas\" \"sklearn\" \"nltk\"\n",
        "    import numpy\n",
        "    import pandas as pd\n",
        "    from sklearn.feature_extraction.text import TfidfVectorizer\n",
        "    from sklearn.metrics.pairwise import cosine_similarity\n",
        "    import re\n",
        "    from nltk.stem.snowball import SnowballStemmer\n",
        "    import nltk\n",
        "    nltk.download('punkt')\n",
        "\n",
        "print('Done!')\n"
      ],
      "metadata": {
        "id": "GLxEL4PI_vJE"
      },
      "execution_count": null,
      "outputs": []
    },
    {
      "cell_type": "code",
      "source": [
        "# Set up the stemmer\n",
        "stemmer = SnowballStemmer(\"english\")\n",
        "\n",
        "# Load the patents data\n",
        "PATH_PATENTS = \"/content/drive/MyDrive/content_recommender_data/ABSTRACTS.csv\"\n",
        "patents = pd.read_csv(PATH_PATENTS)\n",
        "patents = patents[['ABSTRACTS']].dropna()  # select the 'abstract' column and drop rows with missing values\n",
        "abstracts = patents['ABSTRACTS'].tolist()  # convert the abstracts to a list\n",
        "\n",
        "# Clean and tokenize the abstracts\n",
        "def clean_tokenize(document):\n",
        "    document = re.sub('[^\\w_\\s-]', ' ', document)  # remove punctuation marks and other symbols\n",
        "    tokens = nltk.word_tokenize(document)  # tokenize sentences\n",
        "    cleaned_abstract = ' '.join([stemmer.stem(item) for item in tokens])  # stem each token\n",
        "    return cleaned_abstract\n",
        "\n",
        "cleaned_abstracts = list(map(clean_tokenize, abstracts))"
      ],
      "metadata": {
        "id": "3zx-kDfIFaVn"
      },
      "execution_count": null,
      "outputs": []
    },
    {
      "cell_type": "code",
      "source": [
        "\n",
        "# Get user input for keywords separated by commas\n",
        "user_keywords = input(\"Enter keywords separated by commas: \")\n"
      ],
      "metadata": {
        "colab": {
          "base_uri": "https://localhost:8080/"
        },
        "id": "5P2AI0b9FeAJ",
        "outputId": "04839e84-8658-4593-f2bb-560271384417"
      },
      "execution_count": 5,
      "outputs": [
        {
          "name": "stdout",
          "output_type": "stream",
          "text": [
            "Enter keywords separated by commas: doctor\n"
          ]
        }
      ]
    },
    {
      "cell_type": "code",
      "source": [
        "\n",
        "# Split user input into a list of keywords\n",
        "user_keywords_list = [keyword.strip() for keyword in user_keywords.split(',')]\n",
        "\n",
        "# Combine keywords into a single string for processing\n",
        "cleaned_user_keywords = ' '.join(user_keywords_list)\n",
        "\n",
        "# Process and clean user input keywords\n",
        "cleaned_user_keywords = clean_tokenize(cleaned_user_keywords)\n"
      ],
      "metadata": {
        "id": "F3WmP_xPFgmg"
      },
      "execution_count": 6,
      "outputs": []
    },
    {
      "cell_type": "code",
      "source": [
        "\n",
        "# Generate TF-IDF matrix for user input keywords and all patents\n",
        "tfidf_matrix = TfidfVectorizer(stop_words='english', min_df=2)\n",
        "abstract_tfidf_matrix = tfidf_matrix.fit_transform(cleaned_abstracts)\n",
        "user_keywords_tfidf_vector = tfidf_matrix.transform([cleaned_user_keywords])\n"
      ],
      "metadata": {
        "id": "kjuk5QkkFjhw"
      },
      "execution_count": 7,
      "outputs": []
    },
    {
      "cell_type": "code",
      "source": [
        "\n",
        "# Calculate cosine similarity between user input keywords and all patents\n",
        "patents_similarity_score = cosine_similarity(abstract_tfidf_matrix, user_keywords_tfidf_vector)\n",
        "recommended_patents_id = patents_similarity_score.flatten().argsort()[::-1]\n"
      ],
      "metadata": {
        "id": "k2if66-9FtSy"
      },
      "execution_count": 8,
      "outputs": []
    },
    {
      "cell_type": "code",
      "source": [
        "\n",
        "# Define the number of recommendations you want to display\n",
        "num_recommendations = 5\n"
      ],
      "metadata": {
        "id": "papW-lHlFqxR"
      },
      "execution_count": 9,
      "outputs": []
    },
    {
      "cell_type": "code",
      "source": [
        "\n",
        "# Display the top N recommended patents with full abstract content\n",
        "recommended_patents = patents.loc[patents.index.isin(recommended_patents_id[:num_recommendations]), 'ABSTRACTS']\n",
        "\n",
        "print(f'\\nTop {num_recommendations} Recommended Patents:')\n",
        "for idx, abstract in zip(recommended_patents.index, recommended_patents):\n",
        "    print(f'\\nPatent ID: {idx}\\nAbstract: {abstract}\\n{\"-\"*50}')\n"
      ],
      "metadata": {
        "colab": {
          "base_uri": "https://localhost:8080/"
        },
        "id": "iMLArSJyFo2x",
        "outputId": "cd88192b-052f-4388-f246-432e645b21e4"
      },
      "execution_count": 10,
      "outputs": [
        {
          "output_type": "stream",
          "name": "stdout",
          "text": [
            "\n",
            "Top 5 Recommended Patents:\n",
            "\n",
            "Patent ID: 41878\n",
            "Abstract: Doctor blade (8) for an apparatus for additive manufacturing, adapted to move transversally on a platform (6b, 6b&#39;) housing a powder bed (6), in a direction parallel to the plane in which said powder bed (6) lies, wherein said doctor blade (8) is provided with at least one illuminator (52) arranged in the lower part of the doctor blade (8) itself, said at least one illuminator (52) being an emitter with an emission spectrum centered in the spectral region from 300 to 1000 nm.\n",
            "--------------------------------------------------\n",
            "\n",
            "Patent ID: 59503\n",
            "Abstract: A doctor blade assembly for an electrophotographic printer comprises a first bracket having a first width dimension and a first height dimension, a second bracket having a second width dimension and a second height dimension, a doctor blade disposed between the front bracket and the rear bracket, the doctor blade having a cantilever length, the cantilever length varying from a first length at a first location and a second length at a second location moving along said width dimensions.\n",
            "--------------------------------------------------\n",
            "\n",
            "Patent ID: 62083\n",
            "Abstract: The present invention relates to a doctor blade for paper, board, finishing and tissue machines, and a method for manufacturing the doctor blade. The doctor blade includes a tip placed against the surface of a roll or a cylinder. The doctor blade consists of at least two different layers made of fibre reinforced plastic material. The doctor blade of the present invention and the method for manufacturing the same are characterised in that the doctor blade mostly consists of two layers of plastic material. One of the layers forms at least the main part of the body (48) of the doctor blade (40) and one of the lateral surfaces of the doctor blade (40). The other layer (46) made of a more wear-proof material forms at least partially the other opposite lateral surface of the doctor blade (40).\n",
            "--------------------------------------------------\n",
            "\n",
            "Patent ID: 85714\n",
            "Abstract: A system for treating information relating to medical hospital emergency consultations, comprising a computer system (1) consisting of a data base (2) including all or part of the medical records (4) of patients; means for supplying said data base with the results of medical examinations in the form of computer files (6, 9, 13) having distinct graphic formats, i.e. means for allocating a specialist doctor selected from a list (8) of specialist doctors contained in the data base (2) for a specific consultation; means for sending an alert (12) to the specialist doctor so that he or she can analyze the information contained in the data base (2) relating to said consultation; remote computer equipment (20) including means enabling the specialist doctor to visualize said information and computer files (6, 9, 13) having distinct formats; means enabling the specialist doctor to supply the data base with his/her authenticated opinion (75) with regard to the consultation.\n",
            "--------------------------------------------------\n",
            "\n",
            "Patent ID: 89292\n",
            "Abstract: An efficient solution for the renewal of prescriptions for pharmacies, pharmacists, doctors and patients that automatically requests a prescription renewal from a prescribing doctor when a patient requests medications that have expired, are lost, or for which there are no more refills left.\n",
            "--------------------------------------------------\n"
          ]
        }
      ]
    },
    {
      "cell_type": "code",
      "source": [],
      "metadata": {
        "id": "J-AvlA83IIH-"
      },
      "execution_count": 10,
      "outputs": []
    }
  ]
}
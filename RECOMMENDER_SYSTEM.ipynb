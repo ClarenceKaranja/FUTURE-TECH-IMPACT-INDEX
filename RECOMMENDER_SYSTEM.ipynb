{
  "nbformat": 4,
  "nbformat_minor": 0,
  "metadata": {
    "colab": {
      "provenance": [],
      "gpuType": "T4",
      "mount_file_id": "1sz87uYr1znV60EBXODYY9x9xpFeFYT0u",
      "authorship_tag": "ABX9TyPfVMzp5R/xBKBkGNEU1a9i"
    },
    "kernelspec": {
      "name": "python3",
      "display_name": "Python 3"
    },
    "language_info": {
      "name": "python"
    },
    "accelerator": "GPU"
  },
  "cells": [
    {
      "cell_type": "markdown",
      "source": [
        "# **Title:**\n",
        "## **NAVIGATING TOMORROW: INTRODUCING THE FUTURE TECH IMPACT INDEX**\n",
        "\n",
        "In the swift current of technological advancement, staying ahead requires more than just keeping up—it demands foresight. Welcome to the \"Future Tech Impact Index,\" a revolutionary project set to transform decision-making in the ever-changing landscape of emerging technologies.\n",
        "\n",
        "**A Glimpse into the Future:**\n",
        "The \"Future Tech Impact Index\" isn't just a tool; it's a compass designed to guide businesses, investors, and policymakers through the complexities of tomorrow's innovations.\n",
        "\n",
        "**Data-Driven Insights:**\n",
        "This index leverages data science to provide a comprehensive assessment of emerging technologies. It's not just about information; it's about actionable insights.\n",
        "\n",
        "**Empowering Decision-Making:**\n",
        "Imagine having a tool that not only empowers businesses with strategic insights but also lends expertise to policymakers crafting regulations for sustainable progress. That's the \"Future Tech Impact Index.\"\n",
        "\n",
        "**How It Works in a Snapshot:**\n",
        "Automated data collection, meticulous methodology, and a keen alignment with societal goals—this index simplifies the complex journey from information to impact scores.\n",
        "\n",
        "**Illuminate Tomorrow's Transformations:**\n",
        "The recommendations made aren't just ranks; they're a guiding light, revealing the transformative potential of emerging technologies.\n",
        "\n",
        "**In a Nutshell:**\n",
        "The \"Future Tech Impact Index\" is your key to navigating the future with confidence. In a world where innovation is constant, this index is your strategic ally—a concise, powerful guide to informed decisions and sustainable progress. Welcome to a new era of technological foresight—welcome to the future."
      ],
      "metadata": {
        "id": "TFAMDW3OVaom"
      }
    },
    {
      "cell_type": "markdown",
      "source": [
        "# Section 1: Downloading NLTK Resources\n",
        "This section ensures that the necessary NLTK resource for tokenization is available.\n",
        "\n"
      ],
      "metadata": {
        "id": "QRFOTOfWKyVv"
      }
    },
    {
      "cell_type": "code",
      "source": [
        "import nltk\n",
        "\n",
        "try:\n",
        "    nltk.data.find('tokenizers/punkt')\n",
        "except LookupError:\n",
        "    print('Downloading punkt...')\n",
        "    nltk.download('punkt')"
      ],
      "metadata": {
        "id": "GLxEL4PI_vJE"
      },
      "execution_count": 18,
      "outputs": []
    },
    {
      "cell_type": "markdown",
      "source": [
        "# Section 2: Importing Libraries\n",
        "This section imports the necessary libraries for data processing and analysis."
      ],
      "metadata": {
        "id": "KVI1nyJ9LveO"
      }
    },
    {
      "cell_type": "code",
      "source": [
        "try:\n",
        "    import numpy\n",
        "    import pandas as pd\n",
        "    from sklearn.feature_extraction.text import TfidfVectorizer\n",
        "    from sklearn.metrics.pairwise import cosine_similarity\n",
        "    import re\n",
        "    from nltk.stem.snowball import SnowballStemmer\n",
        "except ImportError:\n",
        "    print('You are missing some packages! ' \\\n",
        "          'We will try installing them before continuing!')\n",
        "    !pip install \"numpy\" \"pandas\" \"sklearn\" \"nltk\"\n",
        "    import numpy\n",
        "    import pandas as pd\n",
        "    from sklearn.feature_extraction.text import TfidfVectorizer\n",
        "    from sklearn.metrics.pairwise import cosine_similarity\n",
        "    import re\n",
        "    from nltk.stem.snowball import SnowballStemmer\n",
        "    import nltk\n",
        "    nltk.download('punkt')\n",
        "\n",
        "print('Done!')"
      ],
      "metadata": {
        "colab": {
          "base_uri": "https://localhost:8080/"
        },
        "id": "WGejibywK3LQ",
        "outputId": "02d26cb0-bdc3-4475-8a08-1aa94cc94ead"
      },
      "execution_count": 19,
      "outputs": [
        {
          "output_type": "stream",
          "name": "stdout",
          "text": [
            "Done!\n"
          ]
        }
      ]
    },
    {
      "cell_type": "markdown",
      "source": [
        "# Section 3: Set up the Stemmer\n",
        "Initialize the SnowballStemmer from NLTK to stem words in the abstracts."
      ],
      "metadata": {
        "id": "3UWZeWN0Mb_i"
      }
    },
    {
      "cell_type": "code",
      "source": [
        "# Set up the stemmer\n",
        "stemmer = SnowballStemmer(\"english\")"
      ],
      "metadata": {
        "id": "3zx-kDfIFaVn"
      },
      "execution_count": 20,
      "outputs": []
    },
    {
      "cell_type": "markdown",
      "source": [
        "# Section 4: Load and Clean Data\n",
        "Load patent abstracts from a CSV file, select the 'ABSTRACTS' column, and drop rows with missing values."
      ],
      "metadata": {
        "id": "m4NLjpW9Mrjb"
      }
    },
    {
      "cell_type": "code",
      "source": [
        "# Load the patents data\n",
        "PATH_PATENTS = \"/content/drive/MyDrive/content_recommender_data/ABSTRACTS.csv\"\n",
        "patents = pd.read_csv(PATH_PATENTS)\n",
        "patents = patents[['ABSTRACTS']].dropna()  # select the 'abstract' column and drop rows with missing values\n",
        "abstracts = patents['ABSTRACTS'].tolist()  # convert the abstracts to a list"
      ],
      "metadata": {
        "id": "G9sGP36mMqbp"
      },
      "execution_count": 21,
      "outputs": []
    },
    {
      "cell_type": "markdown",
      "source": [
        "# Section 5: Clean and Tokenize Abstracts\n",
        "Define a function to clean and tokenize the abstracts using NLTK and regular expressions."
      ],
      "metadata": {
        "id": "MQYA-YfWM9lh"
      }
    },
    {
      "cell_type": "code",
      "source": [
        "# Clean and tokenize the abstracts\n",
        "def clean_tokenize(document):\n",
        "    document = re.sub('[^\\w_\\s-]', ' ', document)  # remove punctuation marks and other symbols\n",
        "    tokens = nltk.word_tokenize(document)  # tokenize sentences\n",
        "    cleaned_abstract = ' '.join([stemmer.stem(item) for item in tokens])  # stem each token\n",
        "    return cleaned_abstract\n",
        "\n",
        "# Apply the cleaning and tokenization function to each abstract.\n",
        "cleaned_abstracts = list(map(clean_tokenize, abstracts))"
      ],
      "metadata": {
        "id": "FXVbFaY-NAMl"
      },
      "execution_count": 22,
      "outputs": []
    },
    {
      "cell_type": "markdown",
      "source": [
        "# Section 6: Get User Input for Keywords\n",
        "Prompt the user to input keywords separated by commas."
      ],
      "metadata": {
        "id": "_H5MTOrWQMl7"
      }
    },
    {
      "cell_type": "code",
      "source": [
        "# Get user input for keywords separated by commas\n",
        "user_keywords = input(\"Enter keywords separated by commas and then press Enter: \")"
      ],
      "metadata": {
        "colab": {
          "base_uri": "https://localhost:8080/"
        },
        "id": "5P2AI0b9FeAJ",
        "outputId": "556f5629-d014-41a9-c6ba-12dd8fee175c"
      },
      "execution_count": 23,
      "outputs": [
        {
          "name": "stdout",
          "output_type": "stream",
          "text": [
            "Enter keywords separated by commas and then press Enter: doctor, technology\n"
          ]
        }
      ]
    },
    {
      "cell_type": "markdown",
      "source": [
        "\n",
        "# Section 7: Split User Input into a List of Keywords\n",
        "Split the user input into a list of keywords, removing any leading or trailing whitespaces."
      ],
      "metadata": {
        "id": "OhAAjUCoQgnQ"
      }
    },
    {
      "cell_type": "code",
      "source": [
        "\n",
        "# Split user input into a list of keywords\n",
        "user_keywords_list = [keyword.strip() for keyword in user_keywords.split(',')]\n"
      ],
      "metadata": {
        "id": "F3WmP_xPFgmg"
      },
      "execution_count": 24,
      "outputs": []
    },
    {
      "cell_type": "markdown",
      "source": [
        "# Section 8: Combine Keywords for Processing\n",
        "Combine the cleaned list of keywords into a single string for further processing."
      ],
      "metadata": {
        "id": "EL4NnaAjRAQa"
      }
    },
    {
      "cell_type": "code",
      "source": [
        "# Combine keywords into a single string for processing\n",
        "cleaned_user_keywords = ' '.join(user_keywords_list)\n"
      ],
      "metadata": {
        "id": "bLk7h0XGQ7RH"
      },
      "execution_count": 25,
      "outputs": []
    },
    {
      "cell_type": "markdown",
      "source": [
        "# Section 9: Process and Clean User Input Keywords\n",
        "Apply the same cleaning and tokenization function used for abstracts to the user input keywords."
      ],
      "metadata": {
        "id": "-WI-k8g0QzuS"
      }
    },
    {
      "cell_type": "code",
      "source": [
        "\n",
        "# Process and clean user input keywords\n",
        "cleaned_user_keywords = clean_tokenize(cleaned_user_keywords)\n"
      ],
      "metadata": {
        "id": "CAbg1hulQs68"
      },
      "execution_count": 26,
      "outputs": []
    },
    {
      "cell_type": "markdown",
      "source": [],
      "metadata": {
        "id": "abHQhxhmRGDE"
      }
    },
    {
      "cell_type": "markdown",
      "source": [
        "# Section 10: Generate TF-IDF Matrix for User Input Keywords and All Patents\n",
        "Use the TfidfVectorizer to generate TF-IDF matrix for both user input keywords and all patent abstracts."
      ],
      "metadata": {
        "id": "UiwDBCOcRLMX"
      }
    },
    {
      "cell_type": "code",
      "source": [
        "\n",
        "# Generate TF-IDF matrix for user input keywords and all patents\n",
        "tfidf_matrix = TfidfVectorizer(stop_words='english', min_df=2)\n",
        "abstract_tfidf_matrix = tfidf_matrix.fit_transform(cleaned_abstracts)\n",
        "user_keywords_tfidf_vector = tfidf_matrix.transform([cleaned_user_keywords])\n"
      ],
      "metadata": {
        "id": "kjuk5QkkFjhw"
      },
      "execution_count": 27,
      "outputs": []
    },
    {
      "cell_type": "markdown",
      "source": [
        "# Section 11: Calculate Cosine Similarity\n",
        "Calculate cosine similarity between user input keywords and all patents based on their TF-IDF representations."
      ],
      "metadata": {
        "id": "KJ5SYUX3RQRd"
      }
    },
    {
      "cell_type": "code",
      "source": [
        "# Calculate cosine similarity between user input keywords and all patents\n",
        "patents_similarity_score = cosine_similarity(abstract_tfidf_matrix, user_keywords_tfidf_vector)\n",
        "recommended_patents_id = patents_similarity_score.flatten().argsort()[::-1]\n"
      ],
      "metadata": {
        "id": "k2if66-9FtSy"
      },
      "execution_count": 28,
      "outputs": []
    },
    {
      "cell_type": "markdown",
      "source": [
        "# Section 12: Define Number of Recommendations to Display\n",
        "Prompt the user to input the number of recommendations they want to display."
      ],
      "metadata": {
        "id": "43Ig8VFbRZGM"
      }
    },
    {
      "cell_type": "code",
      "source": [
        "# Define the number of recommendations you want to display\n",
        "num_recommendations = int(input(\"Enter the number of recommendations you want to display and then press Enter: \"))"
      ],
      "metadata": {
        "colab": {
          "base_uri": "https://localhost:8080/"
        },
        "id": "papW-lHlFqxR",
        "outputId": "02ebf0eb-b2d0-4018-fd89-15ab19310dec"
      },
      "execution_count": 29,
      "outputs": [
        {
          "name": "stdout",
          "output_type": "stream",
          "text": [
            "Enter the number of recommendations you want to display and then press Enter: 7\n"
          ]
        }
      ]
    },
    {
      "cell_type": "markdown",
      "source": [
        "# Section 13: Display Top N Recommended Patents\n",
        "Display the top N recommended patents along with their full abstract content."
      ],
      "metadata": {
        "id": "RYqZrngwRgy8"
      }
    },
    {
      "cell_type": "code",
      "source": [
        "recommended_patents = patents.loc[patents.index.isin(recommended_patents_id[:num_recommendations]), 'ABSTRACTS']\n",
        "\n",
        "print(f'\\nTop {num_recommendations} Recommended Patents:')\n",
        "for idx, abstract in zip(recommended_patents.index, recommended_patents):\n",
        "    print(f'\\nPatent ID: {idx}\\nAbstract: {abstract}\\n{\"-\"*50}')\n"
      ],
      "metadata": {
        "colab": {
          "base_uri": "https://localhost:8080/"
        },
        "id": "iMLArSJyFo2x",
        "outputId": "fec2d2af-f7e2-4e0e-b3e3-e4de642cc420"
      },
      "execution_count": 30,
      "outputs": [
        {
          "output_type": "stream",
          "name": "stdout",
          "text": [
            "\n",
            "Top 7 Recommended Patents:\n",
            "\n",
            "Patent ID: 21501\n",
            "Abstract: A system, method, apparatus, and software for an uncrewed aerial freighter technology is provided. The technology includes an aircraft designed to carry only cargo, and operates either remotely or autonomously. The technology includes a software system to control the flight as well as refueling, landing, takeoff, and disposing and receiving of materials and containers. The technology includes a tracking system, using blockchain technology, of the materials, aircraft, and other features.\n",
            "--------------------------------------------------\n",
            "\n",
            "Patent ID: 34731\n",
            "Abstract: A system and method for integrating diagnosis and treatment for internal tissues includes imaging (202) at least a portion of an internal organ of a subject using a first technology capable of differentiating tissue types, and targeting (205) and accessing biopsy sites using images of the first technology fused with images of a second technology capable of real-time image updates. Treatment of a biopsy site is planned (207) using the images of the first technology. Instruments for treating the biopsy site are guided (210) by fusing (208) the images of the first technology with the images of the second technology.\n",
            "--------------------------------------------------\n",
            "\n",
            "Patent ID: 41878\n",
            "Abstract: Doctor blade (8) for an apparatus for additive manufacturing, adapted to move transversally on a platform (6b, 6b&#39;) housing a powder bed (6), in a direction parallel to the plane in which said powder bed (6) lies, wherein said doctor blade (8) is provided with at least one illuminator (52) arranged in the lower part of the doctor blade (8) itself, said at least one illuminator (52) being an emitter with an emission spectrum centered in the spectral region from 300 to 1000 nm.\n",
            "--------------------------------------------------\n",
            "\n",
            "Patent ID: 59503\n",
            "Abstract: A doctor blade assembly for an electrophotographic printer comprises a first bracket having a first width dimension and a first height dimension, a second bracket having a second width dimension and a second height dimension, a doctor blade disposed between the front bracket and the rear bracket, the doctor blade having a cantilever length, the cantilever length varying from a first length at a first location and a second length at a second location moving along said width dimensions.\n",
            "--------------------------------------------------\n",
            "\n",
            "Patent ID: 62083\n",
            "Abstract: The present invention relates to a doctor blade for paper, board, finishing and tissue machines, and a method for manufacturing the doctor blade. The doctor blade includes a tip placed against the surface of a roll or a cylinder. The doctor blade consists of at least two different layers made of fibre reinforced plastic material. The doctor blade of the present invention and the method for manufacturing the same are characterised in that the doctor blade mostly consists of two layers of plastic material. One of the layers forms at least the main part of the body (48) of the doctor blade (40) and one of the lateral surfaces of the doctor blade (40). The other layer (46) made of a more wear-proof material forms at least partially the other opposite lateral surface of the doctor blade (40).\n",
            "--------------------------------------------------\n",
            "\n",
            "Patent ID: 85714\n",
            "Abstract: A system for treating information relating to medical hospital emergency consultations, comprising a computer system (1) consisting of a data base (2) including all or part of the medical records (4) of patients; means for supplying said data base with the results of medical examinations in the form of computer files (6, 9, 13) having distinct graphic formats, i.e. means for allocating a specialist doctor selected from a list (8) of specialist doctors contained in the data base (2) for a specific consultation; means for sending an alert (12) to the specialist doctor so that he or she can analyze the information contained in the data base (2) relating to said consultation; remote computer equipment (20) including means enabling the specialist doctor to visualize said information and computer files (6, 9, 13) having distinct formats; means enabling the specialist doctor to supply the data base with his/her authenticated opinion (75) with regard to the consultation.\n",
            "--------------------------------------------------\n",
            "\n",
            "Patent ID: 89292\n",
            "Abstract: An efficient solution for the renewal of prescriptions for pharmacies, pharmacists, doctors and patients that automatically requests a prescription renewal from a prescribing doctor when a patient requests medications that have expired, are lost, or for which there are no more refills left.\n",
            "--------------------------------------------------\n"
          ]
        }
      ]
    }
  ]
}